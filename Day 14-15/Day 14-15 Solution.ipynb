{
 "cells": [
  {
   "cell_type": "code",
   "execution_count": 1,
   "metadata": {},
   "outputs": [],
   "source": [
    "import numpy as np"
   ]
  },
  {
   "cell_type": "markdown",
   "metadata": {},
   "source": [
    "## Ques1. Create a 3x3x3 array with random values"
   ]
  },
  {
   "cell_type": "code",
   "execution_count": 2,
   "metadata": {},
   "outputs": [
    {
     "name": "stdout",
     "output_type": "stream",
     "text": [
      "3x3x3 Array:\n",
      "\n",
      "[[[0.13873499 0.42658562 0.0511758 ]\n",
      "  [0.88772959 0.32349636 0.11557715]\n",
      "  [0.49807528 0.63088056 0.6344032 ]]\n",
      "\n",
      " [[0.30444352 0.81008222 0.496957  ]\n",
      "  [0.54117873 0.54053626 0.70858382]\n",
      "  [0.63183144 0.64148541 0.92821639]]\n",
      "\n",
      " [[0.18581978 0.0354151  0.87035905]\n",
      "  [0.7329661  0.49033035 0.57200525]\n",
      "  [0.38306049 0.73001335 0.35242244]]]\n"
     ]
    }
   ],
   "source": [
    "x = np.random.random((3,3,3))\n",
    "print('3x3x3 Array:\\n')\n",
    "print(x)"
   ]
  },
  {
   "cell_type": "markdown",
   "metadata": {},
   "source": [
    "## Ques2. Create a 5x5 matrix with values 1,2,3,4 just below the diagonal"
   ]
  },
  {
   "cell_type": "code",
   "execution_count": 3,
   "metadata": {},
   "outputs": [
    {
     "name": "stdout",
     "output_type": "stream",
     "text": [
      "Matrix with 1,2,3,4 just below Diagonal:\n",
      "\n",
      " [[0 0 0 0 0]\n",
      " [1 0 0 0 0]\n",
      " [0 2 0 0 0]\n",
      " [0 0 3 0 0]\n",
      " [0 0 0 4 0]]\n"
     ]
    }
   ],
   "source": [
    "matrix = np.zeros((5,5))\n",
    "matrix = np.diag(1+np.arange(4),k = -1)\n",
    "print('Matrix with 1,2,3,4 just below Diagonal:\\n\\n', matrix)"
   ]
  },
  {
   "cell_type": "markdown",
   "metadata": {},
   "source": [
    "## Ques3. Create a 8x8 matrix and fill it with a checkerboard pattern"
   ]
  },
  {
   "cell_type": "code",
   "execution_count": 4,
   "metadata": {},
   "outputs": [
    {
     "name": "stdout",
     "output_type": "stream",
     "text": [
      "Check Borad Pattern:\n",
      "\n",
      "[[0 1 0 1 0 1 0 1]\n",
      " [1 0 1 0 1 0 1 0]\n",
      " [0 1 0 1 0 1 0 1]\n",
      " [1 0 1 0 1 0 1 0]\n",
      " [0 1 0 1 0 1 0 1]\n",
      " [1 0 1 0 1 0 1 0]\n",
      " [0 1 0 1 0 1 0 1]\n",
      " [1 0 1 0 1 0 1 0]]\n"
     ]
    }
   ],
   "source": [
    "x = np.zeros((8,8), dtype=int)\n",
    "x[1::2,::2] = 1\n",
    "x[::2,1::2] = 1\n",
    "print('Check Borad Pattern:\\n')\n",
    "print(x)"
   ]
  },
  {
   "cell_type": "markdown",
   "metadata": {},
   "source": [
    "## Ques4.  Normalize a 5x5 random matrix"
   ]
  },
  {
   "cell_type": "code",
   "execution_count": 5,
   "metadata": {},
   "outputs": [
    {
     "name": "stdout",
     "output_type": "stream",
     "text": [
      "Original Array:\n",
      "\n",
      "[[ 2.21408555 -0.70208625 -1.01890838  0.24277446 -0.24155605]\n",
      " [-0.75846881  1.5162996  -1.76249205  2.12544693 -1.24588299]\n",
      " [ 1.0364664   0.76830482  2.64473797  0.63736128  0.66140175]\n",
      " [ 0.29222566  0.59671996  0.84638273  0.4609744  -1.15714339]\n",
      " [ 1.53070309  1.63744812  0.05871345  0.20043374  0.17279394]]\n",
      "\n",
      "After normalization:\n",
      "\n",
      "[[0.90228501 0.24060596 0.16871905 0.45499475 0.34510021]\n",
      " [0.22781276 0.74395746 0.         0.88217292 0.11721854]\n",
      " [0.63508336 0.57423753 1.         0.54452645 0.54998123]\n",
      " [0.46621522 0.53530494 0.5919534  0.50450429 0.13735354]\n",
      " [0.74722561 0.77144604 0.41323132 0.44538764 0.43911618]]\n"
     ]
    }
   ],
   "source": [
    "x= np.random.randn(5,5)\n",
    "print(\"Original Array:\\n\")\n",
    "print(x)\n",
    "\n",
    "xmax, xmin = x.max(), x.min()\n",
    "x = (x - xmin)/(xmax - xmin)\n",
    "\n",
    "print(\"\\nAfter normalization:\\n\")\n",
    "print(x)"
   ]
  },
  {
   "cell_type": "markdown",
   "metadata": {},
   "source": [
    "## Ques5. How to find common values between two arrays?"
   ]
  },
  {
   "cell_type": "code",
   "execution_count": 6,
   "metadata": {},
   "outputs": [
    {
     "name": "stdout",
     "output_type": "stream",
     "text": [
      "Array1:  [ 0 10 20 40 60]\n",
      "Array2:  [10, 30, 40]\n",
      "Common values between two arrays: [10 40]\n"
     ]
    }
   ],
   "source": [
    "array1 = np.array([0, 10, 20, 40, 60])\n",
    "array2 = [10, 30, 40]\n",
    "print(\"Array1: \", array1)\n",
    "print(\"Array2: \", array2)\n",
    "print(\"Common values between two arrays:\", np.intersect1d(array1, array2))"
   ]
  },
  {
   "cell_type": "markdown",
   "metadata": {},
   "source": [
    "## Ques6. How to get the dates of yesterday, today and tomorrow?"
   ]
  },
  {
   "cell_type": "code",
   "execution_count": 7,
   "metadata": {},
   "outputs": [
    {
     "name": "stdout",
     "output_type": "stream",
     "text": [
      "Yesterday:  2020-07-26\n",
      "Today:  2020-07-27\n",
      "Tomorrow:  2020-07-28\n"
     ]
    }
   ],
   "source": [
    "import datetime as dt\n",
    "\n",
    "today = dt.date.today()\n",
    "yesterday = today - dt.timedelta(days = 1)\n",
    "tomorrow = today + dt.timedelta(days = 1) \n",
    "\n",
    "print('Yesterday: ',yesterday)\n",
    "print('Today: ', today)\n",
    "print('Tomorrow: ', tomorrow)"
   ]
  },
  {
   "cell_type": "markdown",
   "metadata": {},
   "source": [
    "## Ques7. Consider two random array A and B, check if they are equal"
   ]
  },
  {
   "cell_type": "code",
   "execution_count": 8,
   "metadata": {},
   "outputs": [
    {
     "name": "stdout",
     "output_type": "stream",
     "text": [
      "Array1:\n",
      " [[ 1 23  5]\n",
      " [ 6  9 40]]\n",
      "Array2:\n",
      " [[ 1 23  5]\n",
      " [ 6  9 40]]\n",
      "\n",
      "Result is True if the Arrays are Equal \n",
      "Result is False if the Arrays are Not Equal \n"
     ]
    },
    {
     "data": {
      "text/plain": [
       "True"
      ]
     },
     "execution_count": 8,
     "metadata": {},
     "output_type": "execute_result"
    }
   ],
   "source": [
    "a = np.array([[1,23,5],[6,9,40]])\n",
    "b =  np.array([[1,23,5],[6,9,40]])\n",
    "print('Array1:\\n', a)\n",
    "print('Array2:\\n', b)\n",
    "print('\\nResult is True if the Arrays are Equal \\nResult is False if the Arrays are Not Equal ')\n",
    "np.array_equal(a,b)"
   ]
  },
  {
   "cell_type": "markdown",
   "metadata": {},
   "source": [
    "## Ques8. Create random vector of size 10 and replace the maximum value by 0"
   ]
  },
  {
   "cell_type": "code",
   "execution_count": 9,
   "metadata": {},
   "outputs": [
    {
     "name": "stdout",
     "output_type": "stream",
     "text": [
      "Vector:  [  1  45 867  90  48  94 100 166 867 110]\n",
      "Length of Vector:  10\n",
      "Maximum value: 867\n",
      "Replacing 867 by 0: [  1  45   0  90  48  94 100 166   0 110]\n"
     ]
    }
   ],
   "source": [
    "vector = np.array([1,45,867,90,48,94,100,166,867,110])\n",
    "print('Vector: ', vector)\n",
    "print('Length of Vector: ', len(vector))\n",
    "\n",
    "vector_max = vector.max() \n",
    "print('Maximum value:', vector_max)\n",
    "index= np.where(vector == vector_max)\n",
    "vector[index] = 0\n",
    "\n",
    "print('Replacing {} by 0: {}'.format(vector_max, vector))"
   ]
  },
  {
   "cell_type": "markdown",
   "metadata": {},
   "source": [
    "## Ques9.  How to print all the values of an array?"
   ]
  },
  {
   "cell_type": "code",
   "execution_count": 10,
   "metadata": {},
   "outputs": [
    {
     "name": "stdout",
     "output_type": "stream",
     "text": [
      "For 1-D Array:\n",
      "The element at index 0 is: 12\n",
      "The element at index 1 is: 34\n",
      "The element at index 2 is: 67\n",
      "The element at index 3 is: 89\n",
      "\n",
      "For 2-D Array:\n",
      "The element at index 0 is: [13 57 45]\n",
      "The element at index 1 is: [34 76 88]\n",
      "The element at index 2 is: [92 21 19]\n",
      "The element at index 3 is: [98 67  0]\n"
     ]
    }
   ],
   "source": [
    "# 1-D Array :\n",
    "print('For 1-D Array:')\n",
    "x = np.array([12, 34, 67, 89])\n",
    "for i in range(len(x)):\n",
    "    print(f\"The element at index {i} is: {x[i]}\")\n",
    "\n",
    "# 2-D Array: \n",
    "print('\\nFor 2-D Array:')\n",
    "y = np.array([[13,57,45],[34,76,88],[92,21,19],[98,67,0]])\n",
    "for i in range(len(y)):\n",
    "    print(f\"The element at index {i} is: {y[i]}\")"
   ]
  },
  {
   "cell_type": "markdown",
   "metadata": {},
   "source": [
    "## Ques10. Subtract the mean of each row of a matrix"
   ]
  },
  {
   "cell_type": "code",
   "execution_count": 11,
   "metadata": {},
   "outputs": [
    {
     "name": "stdout",
     "output_type": "stream",
     "text": [
      "Initial Array:\n",
      " [[  1 100   0   0]\n",
      " [  2 110   0   0]\n",
      " [  3 120   0   0]]\n",
      "Mean of Each row:  [25.25 28.   30.75]\n",
      "\n",
      "Resultant Matrix After Subtracting Mean:\n",
      " [[-24.25  74.75 -25.25 -25.25]\n",
      " [-26.    82.   -28.   -28.  ]\n",
      " [-27.75  89.25 -30.75 -30.75]]\n"
     ]
    }
   ],
   "source": [
    "arr = np.array([[1, 100, 0, 0], [2, 110, 0, 0], [3, 120, 0, 0]])\n",
    "print('Initial Array:\\n', arr)\n",
    "print('Mean of Each row: ',arr.mean(axis=1))\n",
    "mean = arr - arr.mean(axis=1, keepdims=True) \n",
    "print('\\nResultant Matrix After Subtracting Mean:\\n',mean)"
   ]
  },
  {
   "cell_type": "markdown",
   "metadata": {},
   "source": [
    "## Ques11.  .Consider a given vector, how to add 1 to each element indexed by a second vector (be careful with repeated indices)?"
   ]
  },
  {
   "cell_type": "code",
   "execution_count": 12,
   "metadata": {},
   "outputs": [
    {
     "name": "stdout",
     "output_type": "stream",
     "text": [
      "Initial Vector:\n",
      " [1. 1. 1. 1. 1. 1. 1. 1. 1. 1.]\n",
      "Random Values:\n",
      " [4 0 3 0 3 1 8 1 4 6 7 4 2 8 7 7 7 8 6 0]\n",
      "Resultant Vector:\n",
      " [4. 3. 2. 3. 4. 1. 3. 5. 4. 1.]\n"
     ]
    }
   ],
   "source": [
    "Z = np.ones(10)\n",
    "print(\"Initial Vector:\\n\",Z)\n",
    "I = np.random.randint(0, len(Z),20)\n",
    "print(\"Random Values:\\n\",I)\n",
    "Z += np.bincount(I, minlength=len(Z))\n",
    "print(\"Resultant Vector:\\n\",Z)"
   ]
  },
  {
   "cell_type": "markdown",
   "metadata": {},
   "source": [
    "## Ques12. How to get the diagonal of a dot product?"
   ]
  },
  {
   "cell_type": "code",
   "execution_count": 13,
   "metadata": {},
   "outputs": [
    {
     "name": "stdout",
     "output_type": "stream",
     "text": [
      "Array A:\n",
      " [[7 0 5]\n",
      " [4 1 9]\n",
      " [2 4 9]]\n",
      "Array B:\n",
      " [[0 2 6]\n",
      " [0 4 2]\n",
      " [8 5 9]]\n",
      "\n",
      "Dot product:\n",
      " [[ 40  39  87]\n",
      " [ 72  57 107]\n",
      " [ 72  65 101]]\n",
      "\n",
      "The Diagonal Elements are:\n",
      " [ 40  57 101]\n"
     ]
    }
   ],
   "source": [
    "A = np.random.randint(0,10,(3,3))\n",
    "B= np.random.randint(0,10,(3,3))\n",
    "\n",
    "print(\"Array A:\\n\", A)\n",
    "print(\"Array B:\\n\", B)\n",
    "\n",
    "print('\\nDot product:\\n',np.dot(A,B))\n",
    "dot = np.diag(np.dot(A, B))\n",
    "print('\\nThe Diagonal Elements are:\\n', dot)"
   ]
  },
  {
   "cell_type": "markdown",
   "metadata": {},
   "source": [
    "## Ques13. How to find the most frequent value in an array?"
   ]
  },
  {
   "cell_type": "code",
   "execution_count": 14,
   "metadata": {},
   "outputs": [
    {
     "name": "stdout",
     "output_type": "stream",
     "text": [
      "Array: [3 3 1 8 8 2 3 0 0 1 6 3 6 4 1 5 1 8 1 7 4 8 0 0 1 1 5 3 3 9]\n",
      "Most Frequent Value: 1\n"
     ]
    }
   ],
   "source": [
    "Z = np.random.randint(0,10,30)\n",
    "print (\"Array:\", Z)\n",
    "print('Most Frequent Value:', np.bincount(Z).argmax())"
   ]
  },
  {
   "cell_type": "markdown",
   "metadata": {},
   "source": [
    "## Ques14. How to get the n largest values of an array"
   ]
  },
  {
   "cell_type": "code",
   "execution_count": 15,
   "metadata": {},
   "outputs": [
    {
     "name": "stdout",
     "output_type": "stream",
     "text": [
      "Enter the value of n: 3\n",
      "3 Largest values in array:  [97 98 99]\n"
     ]
    }
   ],
   "source": [
    "Z = np.arange(100)\n",
    "np.random.shuffle(Z)\n",
    "n = int(input('Enter the value of n: '))\n",
    "print(f\"{n} Largest values in array: \", Z[np.argsort(Z)[-n:]])"
   ]
  },
  {
   "cell_type": "markdown",
   "metadata": {},
   "source": [
    "## Ques15. How to create a record array from a regular array?"
   ]
  },
  {
   "cell_type": "code",
   "execution_count": 1,
   "metadata": {},
   "outputs": [
    {
     "name": "stdout",
     "output_type": "stream",
     "text": [
      "For a Single Array:\n",
      "\n",
      "Regular Array:\n",
      " [['Ram' '98' '99']\n",
      " ['Krishna' '90' '92']\n",
      " ['Rahim' '89' '90']]\n",
      "\n",
      "Record Array: [(b'Ram', 98, 99) (b'Krishna', 90, 92) (b'Rahim', 89, 90)]\n",
      "Type of Result: <class 'numpy.recarray'>\n"
     ]
    }
   ],
   "source": [
    "print('For a Single Array:\\n')\n",
    "x3 = np.array([['Ram',98, 99],['Krishna', 90, 92],['Rahim', 89, 90]])\n",
    "\n",
    "print('Regular Array:\\n', x3)\n",
    "rec = np.core.records.fromarrays(x3.T,names='name,mks1,mks2',formats='S80, i8, i8') # The arrays are now transposed'\n",
    "\n",
    "print('\\nRecord Array:', rec)\n",
    "print('Type of Result:', type(rec))"
   ]
  },
  {
   "cell_type": "code",
   "execution_count": 3,
   "metadata": {},
   "outputs": [
    {
     "name": "stdout",
     "output_type": "stream",
     "text": [
      "Regular Array 1: [1 2 3 4]\n",
      "Regular Array 2: ['K' 'L' 'M' 'N']\n",
      "\n",
      "Record Array: [(1, 'K') (2, 'L') (3, 'M') (4, 'N')]\n",
      "Type of Result: <class 'numpy.recarray'>\n"
     ]
    }
   ],
   "source": [
    "x1 = np.array([1,2,3,4])\n",
    "x2 = np.array(['K','L','M','N'])\n",
    "\n",
    "print('Regular Array 1:',x1)\n",
    "print('Regular Array 2:',x2)\n",
    "\n",
    "records = np.core.records.fromarrays([x1,x2], names='Col1, Col2') # The arrays are now transposed \n",
    "\n",
    "print('\\nRecord Array:', records)\n",
    "print('Type of Result:', type(records))"
   ]
  }
 ],
 "metadata": {
  "kernelspec": {
   "display_name": "Python 3",
   "language": "python",
   "name": "python3"
  },
  "language_info": {
   "codemirror_mode": {
    "name": "ipython",
    "version": 3
   },
   "file_extension": ".py",
   "mimetype": "text/x-python",
   "name": "python",
   "nbconvert_exporter": "python",
   "pygments_lexer": "ipython3",
   "version": "3.7.6"
  },
  "toc": {
   "base_numbering": 1,
   "nav_menu": {},
   "number_sections": true,
   "sideBar": true,
   "skip_h1_title": false,
   "title_cell": "Table of Contents",
   "title_sidebar": "Contents",
   "toc_cell": false,
   "toc_position": {},
   "toc_section_display": true,
   "toc_window_display": false
  },
  "varInspector": {
   "cols": {
    "lenName": 16,
    "lenType": 16,
    "lenVar": 40
   },
   "kernels_config": {
    "python": {
     "delete_cmd_postfix": "",
     "delete_cmd_prefix": "del ",
     "library": "var_list.py",
     "varRefreshCmd": "print(var_dic_list())"
    },
    "r": {
     "delete_cmd_postfix": ") ",
     "delete_cmd_prefix": "rm(",
     "library": "var_list.r",
     "varRefreshCmd": "cat(var_dic_list()) "
    }
   },
   "types_to_exclude": [
    "module",
    "function",
    "builtin_function_or_method",
    "instance",
    "_Feature"
   ],
   "window_display": false
  }
 },
 "nbformat": 4,
 "nbformat_minor": 4
}
