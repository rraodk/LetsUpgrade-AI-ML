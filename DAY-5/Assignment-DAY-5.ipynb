{
 "cells": [
  {
   "cell_type": "markdown",
   "metadata": {},
   "source": [
    "### Write a Python program to find the first 20 non-even prime natural numbers"
   ]
  },
  {
   "cell_type": "code",
   "execution_count": 32,
   "metadata": {},
   "outputs": [
    {
     "name": "stdout",
     "output_type": "stream",
     "text": [
      "1 3 5 7 9 11 13 15 17 19 "
     ]
    }
   ],
   "source": [
    "# NOTE: 2 is the only even prime number in entire prime number set\n",
    "\n",
    "for num in range(0,20): \n",
    "    if num % 2 != 0: \n",
    "     print(num, end = \" \") "
   ]
  },
  {
   "cell_type": "markdown",
   "metadata": {},
   "source": [
    "### Write a Python program to implement 15 functions of string"
   ]
  },
  {
   "cell_type": "code",
   "execution_count": 42,
   "metadata": {},
   "outputs": [
    {
     "name": "stdout",
     "output_type": "stream",
     "text": [
      "Hello WorldMachine Learning\n",
      "hELLO wORLD\n",
      "hello world\n",
      "HELLO WORLD\n",
      "False\n",
      "Hezzo Worzd\n",
      "11\n",
      "6\n",
      "7\n",
      "<built-in method format_map of str object at 0x000001B9392DB730>\n"
     ]
    }
   ],
   "source": [
    "# Program to demonstarte various string functions\n",
    "# type your code here1\n",
    "s1 = \"Hello World\"\n",
    "s2 = \"Machine Learning\"\n",
    "print(s1+s2)\n",
    "print(s1.swapcase())\n",
    "print(s1.lower())\n",
    "print(s1.upper())\n",
    "print(s1.isalpha())\n",
    "print(s1.replace('l','z'))\n",
    "print(len(s1))\n",
    "print(s1.find('W'))\n",
    "print(s1.find('o',5,8))"
   ]
  },
  {
   "cell_type": "markdown",
   "metadata": {},
   "source": [
    "### Write a Python program to check if the given string is a Palindrome or Anagram or None of them. Display the message accordingly to the user."
   ]
  },
  {
   "cell_type": "code",
   "execution_count": 4,
   "metadata": {},
   "outputs": [
    {
     "name": "stdout",
     "output_type": "stream",
     "text": [
      "input a stringss\n",
      "input a stringss\n",
      "ss ss The strings aren't anagrams.\n",
      "input a stringff\n",
      "ff  is a palindrome\n"
     ]
    }
   ],
   "source": [
    "# Anagram check ( Please input Listen and silent )\n",
    "\n",
    "s1=input(\"input a string\")\n",
    "s2=input(\"input a string\")\n",
    "if(sorted(s1)== sorted(s2)): \n",
    " print(s1,s2,\"The strings aren't anagrams.\") \n",
    "else: \n",
    " print(\"The strings aren't anagrams.\") \n",
    "\n",
    "# Palindrome\n",
    "s3=input(\"input a string\")\n",
    "s4=s3[::-1]\n",
    "if s3==s4:\n",
    "    print(s3,\" is a palindrome\")\n",
    "else:\n",
    "    print(s3,\" is not a palindrome\")"
   ]
  },
  {
   "cell_type": "markdown",
   "metadata": {},
   "source": [
    "### Write a Python's user defined function that removes all the additional characters from the string and converts it finally to lower case using built-in lower(). eg: If the string is \"Dr. Darshan Ingle @AI-ML Trainer\", then the output be \"drdarshaningleaimltrainer\""
   ]
  },
  {
   "cell_type": "code",
   "execution_count": 22,
   "metadata": {},
   "outputs": [
    {
     "name": "stdout",
     "output_type": "stream",
     "text": [
      "dr. darshan ingle @ai-ml trainer\n"
     ]
    }
   ],
   "source": [
    "def check(): \n",
    "  s1 = \"Dr. Darshan Ingle @AI-ML Trainer\"\n",
    "  print(s1.lower())\n",
    "      \n",
    "check() "
   ]
  },
  {
   "cell_type": "code",
   "execution_count": null,
   "metadata": {},
   "outputs": [],
   "source": []
  }
 ],
 "metadata": {
  "kernelspec": {
   "display_name": "Python 3",
   "language": "python",
   "name": "python3"
  },
  "language_info": {
   "codemirror_mode": {
    "name": "ipython",
    "version": 3
   },
   "file_extension": ".py",
   "mimetype": "text/x-python",
   "name": "python",
   "nbconvert_exporter": "python",
   "pygments_lexer": "ipython3",
   "version": "3.7.6"
  },
  "toc": {
   "base_numbering": 1,
   "nav_menu": {},
   "number_sections": true,
   "sideBar": true,
   "skip_h1_title": false,
   "title_cell": "Table of Contents",
   "title_sidebar": "Contents",
   "toc_cell": false,
   "toc_position": {},
   "toc_section_display": true,
   "toc_window_display": false
  },
  "varInspector": {
   "cols": {
    "lenName": 16,
    "lenType": 16,
    "lenVar": 40
   },
   "kernels_config": {
    "python": {
     "delete_cmd_postfix": "",
     "delete_cmd_prefix": "del ",
     "library": "var_list.py",
     "varRefreshCmd": "print(var_dic_list())"
    },
    "r": {
     "delete_cmd_postfix": ") ",
     "delete_cmd_prefix": "rm(",
     "library": "var_list.r",
     "varRefreshCmd": "cat(var_dic_list()) "
    }
   },
   "types_to_exclude": [
    "module",
    "function",
    "builtin_function_or_method",
    "instance",
    "_Feature"
   ],
   "window_display": false
  }
 },
 "nbformat": 4,
 "nbformat_minor": 4
}
