{
 "cells": [
  {
   "cell_type": "markdown",
   "metadata": {},
   "source": [
    "### Question 1:\n",
    "### Assuming that we have some email addresses in the \"username@companyname.com\" format, please write program to print the company name of a given email address. Both user names and company names are composed of letters only.\n",
    "###### Input Format:\n",
    "The first line of the input contains an email address.\n",
    "Output Format:\n",
    "Print the company name in single line.\n",
    "Example; Input: john@google.com Output: google"
   ]
  },
  {
   "cell_type": "code",
   "execution_count": 1,
   "metadata": {},
   "outputs": [
    {
     "name": "stdout",
     "output_type": "stream",
     "text": [
      "Enter your email address: xyz@rediffmail.com\n",
      "Company name is: rediffmail\n"
     ]
    }
   ],
   "source": [
    "email = input('Enter your email address: ')\n",
    "company = email.split('@')[1].split('.')[0]\n",
    "print(f'Company name is: {company}')"
   ]
  },
  {
   "cell_type": "markdown",
   "metadata": {},
   "source": [
    "#### Ques2. Write a program that accepts a comma-separated sequence of words as input and prints the words in a comma separated sequence after sorting them alphabetically.\n",
    "\n",
    "**Input Format:\n",
    "The first line of input contains words separated by the comma.**\n",
    "\n",
    "**Output Format:\n",
    "Print the sorted words separated by the comma.**\n",
    "\n",
    "**Example:**\n",
    "\n",
    "**Input:**\n",
    "without,hello,bag,world\n",
    "\n",
    "**Output:**\n",
    "bag,hello,without,world"
   ]
  },
  {
   "cell_type": "code",
   "execution_count": 4,
   "metadata": {},
   "outputs": [
    {
     "name": "stdout",
     "output_type": "stream",
     "text": [
      "Enter the words: without,hello,bag,world\n",
      "bag,hello,without,world\n"
     ]
    }
   ],
   "source": [
    "words = input('Enter the words: ').split(',')\n",
    "words.sort()\n",
    "words_sorted = ','.join(i for i in words)\n",
    "print(words_sorted)"
   ]
  },
  {
   "cell_type": "markdown",
   "metadata": {},
   "source": [
    "### Question 3:  Create your own Jupyter Notebook for Sets"
   ]
  },
  {
   "cell_type": "markdown",
   "metadata": {},
   "source": [
    "##### Create your own Jupyter Notebook for Sets. Reference link: https://www.w3schools.com/python/python_sets.asp"
   ]
  },
  {
   "cell_type": "markdown",
   "metadata": {},
   "source": [
    "### Sets\n",
    "\n",
    "A set is an unordered collection of iterable data which has no duplicate element and is also mutable\n",
    "Since set is unordered and unindexed, the elements of a set cannot be accessed by their indexes, but as set has iterable data the elements can be accessed using a for loop\n",
    "The elements of the set cannot be edited but new elements can be added into the set using the following methods:"
   ]
  },
  {
   "cell_type": "code",
   "execution_count": 5,
   "metadata": {},
   "outputs": [
    {
     "name": "stdout",
     "output_type": "stream",
     "text": [
      "{1, 2, 3, 4, 5}\n"
     ]
    }
   ],
   "source": [
    "s = {1,2,3,4,5}\n",
    "print(s)"
   ]
  },
  {
   "cell_type": "markdown",
   "metadata": {},
   "source": [
    "### 1.  Acessing Item \n",
    "\n",
    "* As we cannot access items in a set by referring to an index, since sets are unordered the items has no index \n",
    "* We can access the element in a set by using for loop\n",
    "* Sets are unordered, so We cannot be sure in which order the items"
   ]
  },
  {
   "cell_type": "code",
   "execution_count": 6,
   "metadata": {},
   "outputs": [
    {
     "name": "stdout",
     "output_type": "stream",
     "text": [
      "Raghavendra\n",
      "Dollar\n",
      "Krishna\n",
      "Ram\n"
     ]
    }
   ],
   "source": [
    "items = {'Raghavendra','Ram','Krishna','Dollar'}\n",
    "for i in items:\n",
    "    print(i)"
   ]
  },
  {
   "cell_type": "markdown",
   "metadata": {},
   "source": [
    "### 2. Change Item\n",
    "* Just like Tuple , Once a set is created, you cannot change its items.\n",
    "* But we can add new items \n",
    "<hr>\n",
    "\n",
    "### Adding New item \n",
    "* For **adding single item** to a set use the **add()** method.\n",
    "\n",
    "* For **adding more than one item** to a set use the **update()** method."
   ]
  },
  {
   "cell_type": "code",
   "execution_count": 7,
   "metadata": {},
   "outputs": [
    {
     "name": "stdout",
     "output_type": "stream",
     "text": [
      "SET is:  {'Raghavendra', 'Dollar', 'Krishna', 'Ram'}\n",
      "Single element added by using add function:  {'corona', 'Ram', 'Dollar', 'Raghavendra', 'Krishna'}\n",
      "Multiple elements are added by using update fnction:  {'corona', 'XYZ', 'Ram', 'ABC', 'Dollar', 'Raghavendra', 'Krishna', 'TMD'}\n"
     ]
    }
   ],
   "source": [
    "tems = {'Raghavendra','Ram','Krishna','Dollar'}\n",
    "print('SET is: ',items)\n",
    "\n",
    "# add( ) method :\n",
    "items.add('corona')\n",
    "print('Single element added by using add function: ', items)\n",
    "\n",
    "# update( ) method : \n",
    "items.update(['ABC','XYZ','TMD'])\n",
    "print('Multiple elements are added by using update fnction: ', items)"
   ]
  },
  {
   "cell_type": "markdown",
   "metadata": {},
   "source": [
    "### Methods of Set :\n",
    "* len()\n",
    "* remove()\n",
    "* clear()\n",
    "* pop()\n",
    "* discard()\n",
    "* add()\n",
    "* update()\n",
    "* copy()\n",
    "* difference()\n",
    "* union()\n",
    "* intersection()\n",
    "* symmetric difference()\n",
    "... Etc"
   ]
  },
  {
   "cell_type": "code",
   "execution_count": 8,
   "metadata": {},
   "outputs": [
    {
     "name": "stdout",
     "output_type": "stream",
     "text": [
      "SET1:  {'c', 'h', 'b', 'a', 'd', 'e', 'g', 'f'}\n",
      "SET2:  {'n', 'm', 'object', 'k', 'l', 'j', 'i'}\n",
      "Length of Set1:  8\n",
      "Length of Set2:  7\n"
     ]
    }
   ],
   "source": [
    "set1 = {'a', 'b', 'c', 'd', 'e', 'f', 'g', 'h'}\n",
    "set2 = {'i','j','k','l','m','n','object'}\n",
    "print('SET1: ',set1)\n",
    "print('SET2: ',set2)\n",
    "print('Length of Set1: ',len(set1))\n",
    "print('Length of Set2: ', len(set2))"
   ]
  },
  {
   "cell_type": "code",
   "execution_count": 9,
   "metadata": {},
   "outputs": [
    {
     "name": "stdout",
     "output_type": "stream",
     "text": [
      "Removing one element from set1: \n",
      "After removing SET1 is:  {'h', 'b', 'a', 'd', 'e', 'g', 'f'}\n"
     ]
    }
   ],
   "source": [
    "print('Removing one element from set1: ')\n",
    "set1.remove('c')\n",
    "print('After removing SET1 is: ',set1)"
   ]
  },
  {
   "cell_type": "markdown",
   "metadata": {},
   "source": [
    "To remove an item in a set, you can use remove() or discard()\n",
    "If you use remove( ) if the item is not in a set , It will raise an error .\n",
    "If you use discard( ) if the item is not in a set , It will not raise an error ."
   ]
  },
  {
   "cell_type": "code",
   "execution_count": 10,
   "metadata": {},
   "outputs": [
    {
     "name": "stdout",
     "output_type": "stream",
     "text": [
      "SET3:  {'apple', 'cherry', 'banana', 'mango'}\n",
      "Clearing a set: set()\n"
     ]
    }
   ],
   "source": [
    "set3 = {'apple','banana','cherry','mango'}\n",
    "print(\"SET3: \", set3)\n",
    "set3.clear()\n",
    "print('Clearing a set:',set3)"
   ]
  },
  {
   "cell_type": "code",
   "execution_count": 11,
   "metadata": {},
   "outputs": [
    {
     "name": "stdout",
     "output_type": "stream",
     "text": [
      "Deleting set3:\n",
      "Set Deleted Succesfully\n"
     ]
    }
   ],
   "source": [
    "print('Deleting set3:')\n",
    "del set3\n",
    "print('Set Deleted Succesfully')"
   ]
  },
  {
   "cell_type": "code",
   "execution_count": 12,
   "metadata": {},
   "outputs": [
    {
     "name": "stdout",
     "output_type": "stream",
     "text": [
      "Join two sets: SET1 and SET2:\n",
      "SET1:  {'h', 'b', 'a', 'd', 'e', 'g', 'f'}\n",
      "SET2:  {'n', 'm', 'object', 'k', 'l', 'j', 'i'}\n",
      "After joining two sets:  {'h', 'b', 'a', 'k', 'm', 'object', 'i', 'd', 'n', 'e', 'l', 'j', 'g', 'f'}\n"
     ]
    }
   ],
   "source": [
    "print('Join two sets: SET1 and SET2:')\n",
    "print('SET1: ',set1)\n",
    "print('SET2: ',set2)\n",
    "set3 = set1.union(set2)\n",
    "print('After joining two sets: ', set3)"
   ]
  },
  {
   "cell_type": "code",
   "execution_count": 13,
   "metadata": {},
   "outputs": [
    {
     "name": "stdout",
     "output_type": "stream",
     "text": [
      "Checking the Common/Duplicate Items: \n",
      "Intersection of sets: set()\n"
     ]
    }
   ],
   "source": [
    "print('Checking the Common/Duplicate Items: ')\n",
    "seta = set1.intersection(set2)\n",
    "print('Intersection of sets:', seta)"
   ]
  },
  {
   "cell_type": "markdown",
   "metadata": {},
   "source": [
    "# Ques4. Given a list of n-1 numbers ranging from 1 to n, your task is to find the missing number. There are no duplicates.\n",
    "\n",
    "**Input Format:\n",
    "The first line contains n-1 numbers with each number separated by a space.**\n",
    "\n",
    "**Output Format:\n",
    "Print the missing number**\n",
    "\n",
    "**Example:**\n",
    "\n",
    "**Input:**\n",
    "1 2 4 6 3 7 8\n",
    "\n",
    "**Output:**\n",
    "5\n"
   ]
  },
  {
   "cell_type": "code",
   "execution_count": 14,
   "metadata": {},
   "outputs": [
    {
     "name": "stdout",
     "output_type": "stream",
     "text": [
      "1 2 4 6 3 7 8\n",
      "5\n"
     ]
    }
   ],
   "source": [
    "nums = set([int(i) for i in input().split()])\n",
    "full = set([i for i in range(1, max(nums)+1)])\n",
    "print(*(nums ^ full))"
   ]
  },
  {
   "cell_type": "markdown",
   "metadata": {},
   "source": [
    "# Ques5. With a given list L, write a program to print this list L after removing all duplicate values with original order reserved.\n",
    "\n",
    "**Example:**\n",
    "\n",
    "**Input list**\n",
    "12 24 35 24 88 120 155 88 120 155\n",
    "\n",
    "**Output**\n",
    "12 24 35 88 120 155\n"
   ]
  },
  {
   "cell_type": "code",
   "execution_count": 15,
   "metadata": {},
   "outputs": [
    {
     "name": "stdout",
     "output_type": "stream",
     "text": [
      "12 24 35 24 88 120 155 88 120 155\n",
      "12 24 35 88 120 155\n"
     ]
    }
   ],
   "source": [
    "nums = [int(i) for i in input().split()]\n",
    "print(*sorted(set(nums), key = nums.index))"
   ]
  }
 ],
 "metadata": {
  "kernelspec": {
   "display_name": "Python 3",
   "language": "python",
   "name": "python3"
  },
  "language_info": {
   "codemirror_mode": {
    "name": "ipython",
    "version": 3
   },
   "file_extension": ".py",
   "mimetype": "text/x-python",
   "name": "python",
   "nbconvert_exporter": "python",
   "pygments_lexer": "ipython3",
   "version": "3.7.6"
  },
  "toc": {
   "base_numbering": 1,
   "nav_menu": {},
   "number_sections": false,
   "sideBar": true,
   "skip_h1_title": false,
   "title_cell": "Table of Contents",
   "title_sidebar": "Contents",
   "toc_cell": false,
   "toc_position": {},
   "toc_section_display": true,
   "toc_window_display": false
  },
  "varInspector": {
   "cols": {
    "lenName": 16,
    "lenType": 16,
    "lenVar": 40
   },
   "kernels_config": {
    "python": {
     "delete_cmd_postfix": "",
     "delete_cmd_prefix": "del ",
     "library": "var_list.py",
     "varRefreshCmd": "print(var_dic_list())"
    },
    "r": {
     "delete_cmd_postfix": ") ",
     "delete_cmd_prefix": "rm(",
     "library": "var_list.r",
     "varRefreshCmd": "cat(var_dic_list()) "
    }
   },
   "types_to_exclude": [
    "module",
    "function",
    "builtin_function_or_method",
    "instance",
    "_Feature"
   ],
   "window_display": false
  }
 },
 "nbformat": 4,
 "nbformat_minor": 4
}
